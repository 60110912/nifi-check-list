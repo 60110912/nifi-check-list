{
 "cells": [
  {
   "cell_type": "code",
   "execution_count": 2,
   "source": [
    "import networkx as nx\r\n",
    "import jsonpath\r\n",
    "import json"
   ],
   "outputs": [],
   "metadata": {}
  },
  {
   "cell_type": "code",
   "execution_count": 3,
   "source": [
    "with open('outlook_exchange.json') as json_file:\r\n",
    "    data=json_file.read()\r\n",
    "jsonobj = json.loads(data)"
   ],
   "outputs": [],
   "metadata": {}
  },
  {
   "cell_type": "code",
   "execution_count": 4,
   "source": [
    "processors = jsonpath.jsonpath(jsonobj, '$..processors.*')"
   ],
   "outputs": [],
   "metadata": {}
  },
  {
   "cell_type": "code",
   "execution_count": 5,
   "source": [
    "G = nx.Graph()\r\n",
    "for item in processors:\r\n",
    "    print('{name} {identifier} {type}'.format(\r\n",
    "        name=item['name'], \r\n",
    "        identifier = item['identifier'], \r\n",
    "        type = item['type']\r\n",
    "        )\r\n",
    "    )\r\n",
    "    G.add_node(item['identifier'], type = item['type'], name=item['name'])"
   ],
   "outputs": [
    {
     "output_type": "stream",
     "name": "stdout",
     "text": [
      "outlook_exchange_PutSQL 0fbcbfb2-dcb4-3463-8d4d-e063626e59c2 org.apache.nifi.processors.standard.PutSQL\n",
      "outlook_exchange_EvaluateJsonPath b4974f1c-65ee-393e-9346-0a9131b561c4 org.apache.nifi.processors.standard.EvaluateJsonPath\n",
      "outlook_exchange_Convert_DateTimes fd611e66-6690-371f-8a1e-85c8bca4695d org.apache.nifi.processors.script.ExecuteScript\n",
      "outlook_exchange_ConsumeKafkaRecord_2_0 657d9fce-7a19-347d-ba1d-c3820918b4d3 org.apache.nifi.processors.kafka.pubsub.ConsumeKafkaRecord_2_0\n",
      "outlook_exchange_Convert_To_JSON e1ef5c7b-93e4-3b0a-9195-1f766bb9327c org.apache.nifi.processors.standard.ConvertRecord\n",
      "outlook_exchange_SplitJson 4b02820a-8bdb-3c84-bd13-883d045e9d4b org.apache.nifi.processors.standard.SplitJson\n",
      "outlook_exchange_MergeContent a296ea64-3c4d-3f1a-830e-e72d7aff5352 org.apache.nifi.processors.standard.MergeContent\n",
      "ConvertRecord 533f7f0e-2258-365e-b5ae-777a9df30c98 org.apache.nifi.processors.standard.ConvertRecord\n",
      "outlook_exchange_Generate_Insert_Statements 7935db80-4e99-3cc8-8e08-67c0a9048ff6 org.apache.nifi.processors.script.ExecuteScript\n"
     ]
    }
   ],
   "metadata": {}
  },
  {
   "cell_type": "code",
   "execution_count": 6,
   "source": [
    "for e in G.nodes.data('type'):\r\n",
    "    print(e)"
   ],
   "outputs": [
    {
     "output_type": "stream",
     "name": "stdout",
     "text": [
      "('0fbcbfb2-dcb4-3463-8d4d-e063626e59c2', 'org.apache.nifi.processors.standard.PutSQL')\n",
      "('b4974f1c-65ee-393e-9346-0a9131b561c4', 'org.apache.nifi.processors.standard.EvaluateJsonPath')\n",
      "('fd611e66-6690-371f-8a1e-85c8bca4695d', 'org.apache.nifi.processors.script.ExecuteScript')\n",
      "('657d9fce-7a19-347d-ba1d-c3820918b4d3', 'org.apache.nifi.processors.kafka.pubsub.ConsumeKafkaRecord_2_0')\n",
      "('e1ef5c7b-93e4-3b0a-9195-1f766bb9327c', 'org.apache.nifi.processors.standard.ConvertRecord')\n",
      "('4b02820a-8bdb-3c84-bd13-883d045e9d4b', 'org.apache.nifi.processors.standard.SplitJson')\n",
      "('a296ea64-3c4d-3f1a-830e-e72d7aff5352', 'org.apache.nifi.processors.standard.MergeContent')\n",
      "('533f7f0e-2258-365e-b5ae-777a9df30c98', 'org.apache.nifi.processors.standard.ConvertRecord')\n",
      "('7935db80-4e99-3cc8-8e08-67c0a9048ff6', 'org.apache.nifi.processors.script.ExecuteScript')\n"
     ]
    }
   ],
   "metadata": {}
  },
  {
   "cell_type": "code",
   "execution_count": 7,
   "source": [
    "connections = jsonpath.jsonpath(jsonobj, '$.flowContents.connections.*')"
   ],
   "outputs": [],
   "metadata": {}
  },
  {
   "cell_type": "code",
   "execution_count": 8,
   "source": [
    "for item in connections:\r\n",
    "    for rel in item['selectedRelationships']:\r\n",
    "        G.add_edge(item['source']['id'], item['destination']['id'], type = rel, weight=1 )"
   ],
   "outputs": [],
   "metadata": {}
  },
  {
   "cell_type": "code",
   "execution_count": 9,
   "source": [
    "nodesKafka = [x for x,y in G.nodes(data=True) if y['type']=='org.apache.nifi.processors.kafka.pubsub.ConsumeKafkaRecord_2_0']"
   ],
   "outputs": [],
   "metadata": {}
  },
  {
   "cell_type": "code",
   "execution_count": 10,
   "source": [
    "list = []"
   ],
   "outputs": [],
   "metadata": {}
  },
  {
   "cell_type": "code",
   "execution_count": 11,
   "source": [
    "if list:\r\n",
    "    print('Yes')\r\n",
    "else:\r\n",
    "    print('No')"
   ],
   "outputs": [
    {
     "output_type": "stream",
     "name": "stdout",
     "text": [
      "No\n"
     ]
    }
   ],
   "metadata": {}
  },
  {
   "cell_type": "code",
   "execution_count": 12,
   "source": [
    "G.nodes['657d9fce-7a19-347d-ba1d-c3820918b4d3'].get('type')\r\n"
   ],
   "outputs": [
    {
     "output_type": "execute_result",
     "data": {
      "text/plain": [
       "'org.apache.nifi.processors.kafka.pubsub.ConsumeKafkaRecord_2_0'"
      ]
     },
     "metadata": {},
     "execution_count": 12
    }
   ],
   "metadata": {}
  },
  {
   "cell_type": "code",
   "execution_count": 13,
   "source": [
    "for n, nbdict in G.adj['657d9fce-7a19-347d-ba1d-c3820918b4d3'].items():\r\n",
    "    print(nbdict['type'])\r\n",
    "    #print(G.nodes[n].get('type'))"
   ],
   "outputs": [
    {
     "output_type": "stream",
     "name": "stdout",
     "text": [
      "parse.failure\n",
      "success\n"
     ]
    }
   ],
   "metadata": {}
  },
  {
   "cell_type": "code",
   "execution_count": 14,
   "source": [
    "all_node = jsonobj['flowContents']\r\n",
    "#print(all_node)\r\n",
    "#test = jsonpath.jsonpath(all_node, \"$.*\")\r\n",
    "#print(test)\r\n",
    "#print(all_node)\r\n",
    "for item, value in all_node.items():\r\n",
    "   if isinstance(value, type([])):\r\n",
    "        all_sub =  jsonpath.jsonpath(jsonobj, '$.flowContents.{item}.*'.format(item=item))\r\n",
    "        if all_sub:\r\n",
    "            for node in all_sub:\r\n",
    "                print(node['identifier'], \"#\", node['name'],'#', node['componentType'])\r\n",
    "\r\n",
    "    # if isinstance(item) == 'list'\r\n",
    "    # print(item['identifier'), \" \", item.get('name'))\r\n",
    "    #print(item['identifier'], \" \", item['name'])"
   ],
   "outputs": [
    {
     "output_type": "stream",
     "name": "stdout",
     "text": [
      "0fbcbfb2-dcb4-3463-8d4d-e063626e59c2 # outlook_exchange_PutSQL # PROCESSOR\n",
      "b4974f1c-65ee-393e-9346-0a9131b561c4 # outlook_exchange_EvaluateJsonPath # PROCESSOR\n",
      "fd611e66-6690-371f-8a1e-85c8bca4695d # outlook_exchange_Convert_DateTimes # PROCESSOR\n",
      "657d9fce-7a19-347d-ba1d-c3820918b4d3 # outlook_exchange_ConsumeKafkaRecord_2_0 # PROCESSOR\n",
      "e1ef5c7b-93e4-3b0a-9195-1f766bb9327c # outlook_exchange_Convert_To_JSON # PROCESSOR\n",
      "4b02820a-8bdb-3c84-bd13-883d045e9d4b # outlook_exchange_SplitJson # PROCESSOR\n",
      "a296ea64-3c4d-3f1a-830e-e72d7aff5352 # outlook_exchange_MergeContent # PROCESSOR\n",
      "533f7f0e-2258-365e-b5ae-777a9df30c98 # ConvertRecord # PROCESSOR\n",
      "7935db80-4e99-3cc8-8e08-67c0a9048ff6 # outlook_exchange_Generate_Insert_Statements # PROCESSOR\n",
      "730174e6-eb58-352e-8d92-39bae42592d3 #  # CONNECTION\n",
      "cce215e8-47b2-3332-9213-870ed9dedbf8 #  # CONNECTION\n",
      "fd90bf40-71c2-3cbd-a004-28db0caa13a9 #  # CONNECTION\n",
      "f6e785fe-80eb-393e-8b9a-6d8513d59516 #  # CONNECTION\n",
      "d8164db2-2126-338a-9d2e-01fc46fd31b7 #  # CONNECTION\n",
      "ee38a6d1-6b3d-3846-9004-abd8742975fa #  # CONNECTION\n",
      "c4d475e3-9559-3ef9-981a-bc483ee6d94e #  # CONNECTION\n",
      "b604199e-f76e-300e-b99f-7016f51f1ff2 #  # CONNECTION\n",
      "95a7a373-e7c2-3a7c-b88f-34f2c47f5d48 #  # CONNECTION\n",
      "73a19d43-d0de-3ffe-955e-520a230e51e5 #  # CONNECTION\n",
      "b6a54164-e574-3ca8-aae0-d09b3f9b4e35 #  # CONNECTION\n",
      "2c6a2907-d2ff-39eb-834a-ab8001078f22 # AvroReader_EmbeddedSchema # CONTROLLER_SERVICE\n",
      "3e1a7182-19e2-3ae7-b78f-ded8c347aa46 # outlook_exchange_SSLContextService_Kafka # CONTROLLER_SERVICE\n",
      "9326b607-efb4-3ba7-ae6f-61e82fbdb44e # ConfluentSchemaRegistry_from_Kafka # CONTROLLER_SERVICE\n",
      "4778711b-5c2d-36c7-823b-0e86302a100c # JsonRecordSetWriter # CONTROLLER_SERVICE\n",
      "525574a7-9cd7-3816-99a8-579f81af557c # AvroReader_from_Kafka # CONTROLLER_SERVICE\n",
      "ba969a67-3122-34b9-9b12-0fb424898bf5 # outlook_exchange_GP # CONTROLLER_SERVICE\n",
      "b9b01dbd-5074-37b7-aad7-d6e287b99749 # AvroRecordSetWriter_from_Kafka # CONTROLLER_SERVICE\n"
     ]
    }
   ],
   "metadata": {}
  },
  {
   "cell_type": "code",
   "execution_count": 15,
   "source": [
    "import pandas as pd"
   ],
   "outputs": [],
   "metadata": {}
  },
  {
   "cell_type": "code",
   "execution_count": 16,
   "source": [
    "dfObj = pd.DataFrame(columns=['User_ID', 'UserName', 'Action'])"
   ],
   "outputs": [],
   "metadata": {}
  },
  {
   "cell_type": "code",
   "execution_count": 17,
   "source": [
    "dfObj"
   ],
   "outputs": [
    {
     "output_type": "execute_result",
     "data": {
      "text/html": [
       "<div>\n",
       "<style scoped>\n",
       "    .dataframe tbody tr th:only-of-type {\n",
       "        vertical-align: middle;\n",
       "    }\n",
       "\n",
       "    .dataframe tbody tr th {\n",
       "        vertical-align: top;\n",
       "    }\n",
       "\n",
       "    .dataframe thead th {\n",
       "        text-align: right;\n",
       "    }\n",
       "</style>\n",
       "<table border=\"1\" class=\"dataframe\">\n",
       "  <thead>\n",
       "    <tr style=\"text-align: right;\">\n",
       "      <th></th>\n",
       "      <th>User_ID</th>\n",
       "      <th>UserName</th>\n",
       "      <th>Action</th>\n",
       "    </tr>\n",
       "  </thead>\n",
       "  <tbody>\n",
       "  </tbody>\n",
       "</table>\n",
       "</div>"
      ],
      "text/plain": [
       "Empty DataFrame\n",
       "Columns: [User_ID, UserName, Action]\n",
       "Index: []"
      ]
     },
     "metadata": {},
     "execution_count": 17
    }
   ],
   "metadata": {}
  },
  {
   "cell_type": "code",
   "execution_count": 18,
   "source": [
    "dfObj = dfObj.append({'User_ID': 23, 'UserName': 'Riti', 'Action': 'Login'}, ignore_index=True)"
   ],
   "outputs": [],
   "metadata": {}
  },
  {
   "cell_type": "code",
   "execution_count": 19,
   "source": [
    "dfObj"
   ],
   "outputs": [
    {
     "output_type": "execute_result",
     "data": {
      "text/html": [
       "<div>\n",
       "<style scoped>\n",
       "    .dataframe tbody tr th:only-of-type {\n",
       "        vertical-align: middle;\n",
       "    }\n",
       "\n",
       "    .dataframe tbody tr th {\n",
       "        vertical-align: top;\n",
       "    }\n",
       "\n",
       "    .dataframe thead th {\n",
       "        text-align: right;\n",
       "    }\n",
       "</style>\n",
       "<table border=\"1\" class=\"dataframe\">\n",
       "  <thead>\n",
       "    <tr style=\"text-align: right;\">\n",
       "      <th></th>\n",
       "      <th>User_ID</th>\n",
       "      <th>UserName</th>\n",
       "      <th>Action</th>\n",
       "    </tr>\n",
       "  </thead>\n",
       "  <tbody>\n",
       "    <tr>\n",
       "      <th>0</th>\n",
       "      <td>23</td>\n",
       "      <td>Riti</td>\n",
       "      <td>Login</td>\n",
       "    </tr>\n",
       "  </tbody>\n",
       "</table>\n",
       "</div>"
      ],
      "text/plain": [
       "  User_ID UserName Action\n",
       "0      23     Riti  Login"
      ]
     },
     "metadata": {},
     "execution_count": 19
    }
   ],
   "metadata": {}
  },
  {
   "cell_type": "code",
   "execution_count": 20,
   "source": [
    "listone = [1, 2, 3]\r\n",
    "listtwo = [4, 5, 6]\r\n",
    "\r\n",
    "listone += listtwo \r\n",
    "listone"
   ],
   "outputs": [
    {
     "output_type": "execute_result",
     "data": {
      "text/plain": [
       "[1, 2, 3, 4, 5, 6]"
      ]
     },
     "metadata": {},
     "execution_count": 20
    }
   ],
   "metadata": {}
  },
  {
   "cell_type": "code",
   "execution_count": 26,
   "source": [
    "processors = jsonpath.jsonpath(jsonobj, \"$..processors[?(@.identifier == '0fbcbfb2-dcb4-3463-8d4d-e063626e59c2')]\")"
   ],
   "outputs": [],
   "metadata": {}
  },
  {
   "cell_type": "code",
   "execution_count": 27,
   "source": [
    "processors"
   ],
   "outputs": [
    {
     "output_type": "execute_result",
     "data": {
      "text/plain": [
       "[{'identifier': '0fbcbfb2-dcb4-3463-8d4d-e063626e59c2',\n",
       "  'name': 'outlook_exchange_PutSQL',\n",
       "  'comments': '',\n",
       "  'position': {'x': 1826.3598545990847, 'y': 1085.9629676422644},\n",
       "  'bundle': {'group': 'org.apache.nifi',\n",
       "   'artifact': 'nifi-standard-nar',\n",
       "   'version': '1.11.4'},\n",
       "  'style': {},\n",
       "  'type': 'org.apache.nifi.processors.standard.PutSQL',\n",
       "  'properties': {'Support Fragmented Transactions': 'false',\n",
       "   'putsql-sql-statement': None,\n",
       "   'Transaction Timeout': None,\n",
       "   'Batch Size': '3',\n",
       "   'Obtain Generated Keys': 'false',\n",
       "   'JDBC Connection Pool': 'ba969a67-3122-34b9-9b12-0fb424898bf5',\n",
       "   'database-session-autocommit': 'false',\n",
       "   'rollback-on-failure': 'true'},\n",
       "  'propertyDescriptors': {'Support Fragmented Transactions': {'name': 'Support Fragmented Transactions',\n",
       "    'displayName': 'Support Fragmented Transactions',\n",
       "    'identifiesControllerService': False,\n",
       "    'sensitive': False},\n",
       "   'putsql-sql-statement': {'name': 'putsql-sql-statement',\n",
       "    'displayName': 'SQL Statement',\n",
       "    'identifiesControllerService': False,\n",
       "    'sensitive': False},\n",
       "   'Transaction Timeout': {'name': 'Transaction Timeout',\n",
       "    'displayName': 'Transaction Timeout',\n",
       "    'identifiesControllerService': False,\n",
       "    'sensitive': False},\n",
       "   'Batch Size': {'name': 'Batch Size',\n",
       "    'displayName': 'Batch Size',\n",
       "    'identifiesControllerService': False,\n",
       "    'sensitive': False},\n",
       "   'Obtain Generated Keys': {'name': 'Obtain Generated Keys',\n",
       "    'displayName': 'Obtain Generated Keys',\n",
       "    'identifiesControllerService': False,\n",
       "    'sensitive': False},\n",
       "   'JDBC Connection Pool': {'name': 'JDBC Connection Pool',\n",
       "    'displayName': 'JDBC Connection Pool',\n",
       "    'identifiesControllerService': True,\n",
       "    'sensitive': False},\n",
       "   'database-session-autocommit': {'name': 'database-session-autocommit',\n",
       "    'displayName': 'Database Session AutoCommit',\n",
       "    'identifiesControllerService': False,\n",
       "    'sensitive': False},\n",
       "   'rollback-on-failure': {'name': 'rollback-on-failure',\n",
       "    'displayName': 'Rollback On Failure',\n",
       "    'identifiesControllerService': False,\n",
       "    'sensitive': False}},\n",
       "  'schedulingPeriod': '1 sec',\n",
       "  'schedulingStrategy': 'TIMER_DRIVEN',\n",
       "  'executionNode': 'ALL',\n",
       "  'penaltyDuration': '30 sec',\n",
       "  'yieldDuration': '1 sec',\n",
       "  'bulletinLevel': 'WARN',\n",
       "  'runDurationMillis': 0,\n",
       "  'concurrentlySchedulableTaskCount': 2,\n",
       "  'autoTerminatedRelationships': ['success', 'failure'],\n",
       "  'scheduledState': 'ENABLED',\n",
       "  'componentType': 'PROCESSOR',\n",
       "  'groupIdentifier': '353b0942-cf7e-3037-a927-b47749dcad15'}]"
      ]
     },
     "metadata": {},
     "execution_count": 27
    }
   ],
   "metadata": {}
  }
 ],
 "metadata": {
  "orig_nbformat": 4,
  "language_info": {
   "name": "python",
   "version": "3.9.6",
   "mimetype": "text/x-python",
   "codemirror_mode": {
    "name": "ipython",
    "version": 3
   },
   "pygments_lexer": "ipython3",
   "nbconvert_exporter": "python",
   "file_extension": ".py"
  },
  "kernelspec": {
   "name": "python3",
   "display_name": "Python 3.9.6 64-bit ('nifi-check-list-U3kJrWjp': pipenv)"
  },
  "interpreter": {
   "hash": "244029824d7aa1a7e6a67ec79cc7d1fbfd4ac29df7ebcbec8384ec0354a3ce76"
  }
 },
 "nbformat": 4,
 "nbformat_minor": 2
}